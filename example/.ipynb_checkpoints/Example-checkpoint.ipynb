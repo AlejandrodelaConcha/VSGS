{
 "cells": [
  {
   "cell_type": "code",
   "execution_count": 1,
   "metadata": {},
   "outputs": [],
   "source": [
    "import os\n",
    "os.chdir(os.path.abspath(os.path.join(os.getcwd(), os.pardir)))"
   ]
  },
  {
   "cell_type": "code",
   "execution_count": 2,
   "metadata": {},
   "outputs": [],
   "source": [
    "### Import code generating the scenarios. \n",
    "from simulation_environment.scenarios_generator import *\n",
    "from model.VSGS import *\n",
    "from evaluation_metrics.evaluation_metrics import *"
   ]
  },
  {
   "cell_type": "markdown",
   "metadata": {},
   "source": [
    "# Example using the first scenario described in the paper."
   ]
  },
  {
   "cell_type": "markdown",
   "metadata": {},
   "source": [
    "## Generate dataset"
   ]
  },
  {
   "cell_type": "code",
   "execution_count": 15,
   "metadata": {},
   "outputs": [],
   "source": [
    "#### Parameters \n",
    "\n",
    "#Input. \n",
    "# 1) The number of change-points is generated via a Poisson distribution with mean \"mean_change-points\".\n",
    "# 2) The distance between change-points is at least 30 + an exponential distribution with mean \"mean_exponential\".\n",
    "# 3) An Erdos Graph with \"n_nodes\" and probability \"p_erdos\" is generated. \n",
    "# 4) The spectral profile of the filter is np.sqrt(15)/(np.log(x+10)+1).\n",
    "# 5) The lowest \"fixed_frequencies\" are generated at random previous to the first change-point. \n",
    "# 6) A given number \"random_frequencies\" are selected at random and they are modified after each change-point.\n",
    "    \n",
    "n_nodes=500\n",
    "fixed_frequencies=100 \n",
    "random_frequencies=20\n",
    "mean_change_points=5\n",
    "mean_exponential=50\n",
    "p_erdos=0.3"
   ]
  },
  {
   "cell_type": "code",
   "execution_count": 16,
   "metadata": {},
   "outputs": [],
   "source": [
    "### Generating the First Scenario. \n",
    "\n",
    "### I just saved the signal,    \n",
    "### the real change-point to measure the performance of the VSGS change-point detector\n",
    "###  and the simulated graph.\n",
    "\n",
    "signal,_,change_points,_,_,G=Scenario_I(n_nodes,mean_change_points,fixed_frequencies,random_frequencies,mean_exponential,p_erdos)"
   ]
  },
  {
   "cell_type": "markdown",
   "metadata": {},
   "source": [
    "Other datasets can be plugged. They only require to be numpy arrays of dimention Txp, where T is the number of Graph Signals and p is the number of nodes. "
   ]
  },
  {
   "cell_type": "markdown",
   "metadata": {},
   "source": [
    "## Train algorithm."
   ]
  },
  {
   "cell_type": "markdown",
   "metadata": {},
   "source": [
    "1) Fix the parameters, compute the eigenvectors of the Laplacian. "
   ]
  },
  {
   "cell_type": "code",
   "execution_count": 17,
   "metadata": {},
   "outputs": [],
   "source": [
    "T=signal.shape[0]  \n",
    "D_max=int(T/np.log(T)) ### Maximum number of change-points to analyse \n",
    "Lambda=[0,0.0001,0.0005,0.001,0.005,0.01,0.05,0.1,0.5,1.] ### Grid of Lambda values\n",
    "#### Compute the eigenvalues and eigenvectors of the laplacian of the graph G.\n",
    "G.compute_fourier_basis()"
   ]
  },
  {
   "cell_type": "markdown",
   "metadata": {},
   "source": [
    "2) Compute the PSD of the signal following the paper \"Stationary signal processing on graphs\" (Perraudin 2017). "
   ]
  },
  {
   "cell_type": "code",
   "execution_count": 18,
   "metadata": {},
   "outputs": [],
   "source": [
    "### Input.\n",
    "\n",
    "# data= matrix of size Txp where T is the time horizon, p the number of covariance        \n",
    "# G= graph over the which the signal is defined \n",
    "# U= eigenvectors of the GSO\n",
    "# lamb= eigenvalues of the GSO\n",
    "# method = which algorithm to use in order to estimate the GFT (availabe : \"likelihood\", \"Perraudin\")\n",
    "# plot = whether or not plot the PSD estimator\n",
    "\n",
    "w=50 ### Number of observations to use.(It will work better if the observations belong to the same segment. \n",
    "PSD_estimate=estimate_PSD(signal[:w],G,G.U,G.e,method=\"perraudin\",plot=False)"
   ]
  },
  {
   "cell_type": "markdown",
   "metadata": {},
   "source": [
    "3) Train the change-point detector and predict the change-points and the spectal mean of the signal. "
   ]
  },
  {
   "cell_type": "code",
   "execution_count": 19,
   "metadata": {},
   "outputs": [],
   "source": [
    "## Input class \n",
    "\n",
    "# D_max = maximum number of change-points.\n",
    "# U eigenvectors of the Graph Sift Operator\n",
    "# PSD= Power Spectral Density. \n",
    "# coefs= coefficients related with the penalization terms (These are estimated using the slope heuristics if they are not provided).\n",
    "\n",
    "VGSG_detector=VSGS(D_max,G.U,PSD_estimate)\n",
    "\n",
    "# Input of the fit function \n",
    "\n",
    "## data matrix of size Txp where T is the time horizon, p the number of covariance \n",
    "## Lambda: values of the lambda parameter to be tested. \n",
    "\n",
    "VGSG_detector.fit(signal,Lambda)\n",
    "estimated_change_points,estimated_mu=VGSG_detector.predict()"
   ]
  },
  {
   "cell_type": "markdown",
   "metadata": {},
   "source": [
    "4) Evaluate the performance of the model. "
   ]
  },
  {
   "cell_type": "code",
   "execution_count": 20,
   "metadata": {},
   "outputs": [
    {
     "name": "stdout",
     "output_type": "stream",
     "text": [
      "    VSGS    \n",
      "real_change_points: [166, 231, 287, 323, 417, 497, 560, 604, 668]\n",
      "estimated_change_points: [166, 230, 286, 324, 418, 498, 560, 604, 668]\n",
      "Haussdor distance: 1.0\n",
      "Randindex: 0.9970732188317974\n",
      "Precision: 1.0\n",
      "Recall: 1.0\n",
      "F1: 1.0\n"
     ]
    }
   ],
   "source": [
    "haussdorf_distance,randindex,precision,recall,F1=get_valuation_metrics(change_points,estimated_change_points)\n",
    "print(\"    VSGS    \")\n",
    "print(\"real_change_points: \"+str(change_points))\n",
    "print(\"estimated_change_points: \"+str(estimated_change_points))\n",
    "print(\"Haussdor distance: \"+str(haussdorf_distance))\n",
    "print(\"Randindex: \"+str(randindex))\n",
    "print(\"Precision: \"+str(precision))\n",
    "print(\"Recall: \"+str(recall))\n",
    "print(\"F1: \"+str(F1))"
   ]
  }
 ],
 "metadata": {
  "kernelspec": {
   "display_name": "Python 3",
   "language": "python",
   "name": "python3"
  },
  "language_info": {
   "codemirror_mode": {
    "name": "ipython",
    "version": 3
   },
   "file_extension": ".py",
   "mimetype": "text/x-python",
   "name": "python",
   "nbconvert_exporter": "python",
   "pygments_lexer": "ipython3",
   "version": "3.8.3"
  }
 },
 "nbformat": 4,
 "nbformat_minor": 4
}
